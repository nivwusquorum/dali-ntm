{
 "cells": [
  {
   "cell_type": "markdown",
   "metadata": {},
   "source": [
    "# Content Adressing expriment\n",
    "\n",
    "In this simple experiment we ask network to use NTM style adressing to retrieve an element from memory based on content similarity. \n",
    "\n",
    "The experiment goes as follows. We create a random memory matrix and we extract a random row. This row is then fed as input to the Read head. We expect to get the same row back. Since theres no direct way to use input input output other than approprately adressing the memory matrix, upon successful experiment we can conclude that system learnt content adressing"
   ]
  },
  {
   "cell_type": "code",
   "execution_count": 12,
   "metadata": {
    "collapsed": false
   },
   "outputs": [
    {
     "name": "stdout",
     "output_type": "stream",
     "text": [
      "The autoreload extension is already loaded. To reload it, use:\n",
      "  %reload_ext autoreload\n"
     ]
    }
   ],
   "source": [
    "%load_ext autoreload\n",
    "%autoreload 2\n",
    "import random\n",
    "import unittest\n",
    "import numpy as np\n",
    "\n",
    "from dali.utils import Solver, RunningAverage, Capture\n",
    "import dali.core as D\n",
    "from memory_access import NTMReadHead\n",
    "import matplotlib.pyplot as plt\n",
    "%matplotlib inline"
   ]
  },
  {
   "cell_type": "code",
   "execution_count": 2,
   "metadata": {
    "collapsed": false
   },
   "outputs": [
    {
     "name": "stdout",
     "output_type": "stream",
     "text": [
      "Epoch  0  error =  0.018758555950450766\n",
      "Epoch  100  error =  0.04311059490251411\n",
      "Epoch  200  error =  0.009614760786222126\n",
      "Epoch  300  error =  0.003058855534964445\n",
      "Epoch  400  error =  0.0022486864917934004\n",
      "Epoch  500  error =  0.0003267284874993943\n",
      "Epoch  600  error =  0.0009190842132166279\n",
      "Epoch  700  error =  0.00018832930728731527\n",
      "Epoch  800  error =  0.0011413621419223768\n",
      "Epoch  900  error =  0.001212532347136773\n",
      "Epoch  1000  error =  4.6192145902635935e-05\n",
      "Epoch  1100  error =  9.463842048540916e-05\n",
      "Epoch  1200  error =  0.003710522401956686\n",
      "Epoch  1300  error =  0.0001095208277462825\n",
      "Epoch  1400  error =  1.3103237480957235e-05\n",
      "Epoch  1500  error =  4.6648746557557146e-05\n",
      "Epoch  1600  error =  2.0991896078492724e-05\n",
      "Epoch  1700  error =  2.5169522458469427e-05\n",
      "Epoch  1800  error =  2.7434520818670558e-05\n",
      "Epoch  1900  error =  0.0015339343888856089\n"
     ]
    }
   ],
   "source": [
    "memory_size = 5\n",
    "memory_locations = 10\n",
    "model = NTMReadHead(input_sizes=[memory_size,],\n",
    "                    memory_locations=memory_locations,\n",
    "                    memory_size=memory_size)\n",
    "initial_locations = D.Mat.zeros((1, memory_locations), constant=True)\n",
    "solver = Solver(model.parameters(), \"rmsprop\", learning_rate=0.01)\n",
    "\n",
    "def generate_example():\n",
    "    memory = D.random.uniform(-1.0, 1.0,\n",
    "        size=(memory_locations, memory_size))\n",
    "    memory.constant = True\n",
    "\n",
    "    with D.NoBackprop():\n",
    "        rnd_location = random.randint(0, memory_locations - 1)\n",
    "        row = memory[rnd_location] # does not backprop\n",
    "        row.constant = True\n",
    "\n",
    "    return memory, row, rnd_location\n",
    "\n",
    "EPOCHS = 2000\n",
    "MINIBATCH = 10\n",
    "\n",
    "error_estimate = RunningAverage(0.99)\n",
    "lowest_error = float('inf')\n",
    "best_params = None\n",
    "\n",
    "\n",
    "for epoch in range(EPOCHS):\n",
    "    for _ in range(MINIBATCH):\n",
    "        memory, row, row_idx = generate_example()\n",
    "\n",
    "        retrieved, _    = model.read(row, memory, initial_locations)\n",
    "        error = (row - retrieved) ** 2\n",
    "        error.grad()\n",
    "        D.Graph.backward()\n",
    "        error_estimate.update(error.w[0,0])\n",
    "    if lowest_error > float(error_estimate):\n",
    "        lowest_error = float(error_estimate)\n",
    "        best_params = [p.get_value(copy=True) for p in model.parameters()]\n",
    "    if epoch % 100 == 0:\n",
    "        print(\"Epoch \", epoch, \" error = \", float(error_estimate), flush=True)\n",
    "    solver.step()\n",
    "\n",
    "for param, best_param in zip(model.parameters(), best_params):\n",
    "    param.w = best_param"
   ]
  },
  {
   "cell_type": "code",
   "execution_count": 3,
   "metadata": {
    "collapsed": false
   },
   "outputs": [
    {
     "data": {
      "text/plain": [
       "0.96999999999999997"
      ]
     },
     "execution_count": 3,
     "metadata": {},
     "output_type": "execute_result"
    }
   ],
   "source": [
    "EVAL_EXAMPLES = 100\n",
    "num_correct = 0\n",
    "with D.NoBackprop():\n",
    "    for epoch in range(EVAL_EXAMPLES):\n",
    "        memory, row, row_idx = generate_example()\n",
    "\n",
    "        retrieved, _    = model.read(row, memory, initial_locations)\n",
    "        num_correct += sum(abs(row - retrieved).w[0] < 0.01)\n",
    "\n",
    "num_correct / (EVAL_EXAMPLES * memory_size)"
   ]
  },
  {
   "cell_type": "code",
   "execution_count": 6,
   "metadata": {
    "collapsed": false
   },
   "outputs": [
    {
     "name": "stdout",
     "output_type": "stream",
     "text": [
      "input row:      [-0.16604996  0.8165015  -0.85963684  0.10898447 -0.72037244]\n",
      "retrieved row:  [-0.16604979  0.81650066 -0.85963595  0.10898436 -0.72037172]\n",
      "Row idx:    4\n",
      "LOCATIONS:  [[\n",
      "    [  0.000   0.000   0.000   0.000   1.000   0.000   0.000   0.000   0.000   0.000]\n",
      "]\n",
      "]\n"
     ]
    }
   ],
   "source": [
    "c = Capture()\n",
    "with D.NoBackprop():\n",
    "    with c:\n",
    "        memory, row, row_idx = generate_example()\n",
    "        retrieved, _    = model.read(row, memory, initial_locations)\n",
    "        \n",
    "print(\"input row:     \", row.w.ravel())\n",
    "print(\"retrieved row: \", retrieved.w.ravel())\n",
    "\n",
    "print(\"Row idx:   \", row_idx)\n",
    "print(\"LOCATIONS: \", c.state[\"read_head_weights\"])"
   ]
  },
  {
   "cell_type": "code",
   "execution_count": 7,
   "metadata": {
    "collapsed": false
   },
   "outputs": [
    {
     "data": {
      "image/png": "[encoded data removed]",
      "text/plain": [
       "<matplotlib.figure.Figure at 0x7ff44d41c8d0>"
      ]
     },
     "metadata": {},
     "output_type": "display_data"
    },
    {
     "data": {
      "image/png": "[encoded data removed]",
      "text/plain": [
       "<matplotlib.figure.Figure at 0x7ff41d030a20>"
      ]
     },
     "metadata": {},
     "output_type": "display_data"
    }
   ],
   "source": [
    "def show_module(m):\n",
    "    plt.matshow(m.matrices[0])\n",
    "    plt.colorbar()\n",
    "    plt.matshow(m.b)\n",
    "    plt.colorbar()\n",
    "\n",
    "def print_module(m):\n",
    "    print(m.matrices[0].w)\n",
    "    print(m.b.w)\n",
    "    \n",
    "show_module(model.addressing.content_key)"
   ]
  },
  {
   "cell_type": "code",
   "execution_count": 8,
   "metadata": {
    "collapsed": false,
    "scrolled": true
   },
   "outputs": [
    {
     "name": "stdout",
     "output_type": "stream",
     "text": [
      "[[ 0.75422418]\n",
      " [ 4.75511456]\n",
      " [ 0.12967382]\n",
      " [-0.07050911]\n",
      " [-1.0323782 ]]\n",
      "[[ 14.32119751]]\n"
     ]
    }
   ],
   "source": [
    "print_module(model.addressing.content_key_strength)"
   ]
  },
  {
   "cell_type": "code",
   "execution_count": 9,
   "metadata": {
    "collapsed": false
   },
   "outputs": [
    {
     "data": {
      "image/png": "[encoded data removed]",
      "text/plain": [
       "<matplotlib.figure.Figure at 0x7ff41cfe8c88>"
      ]
     },
     "metadata": {},
     "output_type": "display_data"
    },
    {
     "data": {
      "image/png": "[encoded data removed]",
      "text/plain": [
       "<matplotlib.figure.Figure at 0x7ff41d003390>"
      ]
     },
     "metadata": {},
     "output_type": "display_data"
    }
   ],
   "source": [
    "show_module(model.addressing.shift)"
   ]
  },
  {
   "cell_type": "code",
   "execution_count": 10,
   "metadata": {
    "collapsed": false
   },
   "outputs": [
    {
     "name": "stdout",
     "output_type": "stream",
     "text": [
      "[[ 1.55468297]\n",
      " [ 3.15778613]\n",
      " [-0.18866539]\n",
      " [-0.74233472]\n",
      " [-2.23694587]]\n",
      "[[ 14.10259438]]\n"
     ]
    }
   ],
   "source": [
    "print_module(model.addressing.interpolation)"
   ]
  },
  {
   "cell_type": "code",
   "execution_count": 11,
   "metadata": {
    "collapsed": false
   },
   "outputs": [
    {
     "name": "stdout",
     "output_type": "stream",
     "text": [
      "[[-1.92003334]\n",
      " [-1.05372655]\n",
      " [ 1.08403599]\n",
      " [-1.66416633]\n",
      " [ 3.70808768]]\n",
      "[[ 14.14016438]]\n"
     ]
    }
   ],
   "source": [
    "print_module(model.addressing.focus)"
   ]
  }
 ],
 "metadata": {
  "kernelspec": {
   "display_name": "Python 3",
   "language": "python",
   "name": "python3"
  },
  "language_info": {
   "codemirror_mode": {
    "name": "ipython",
    "version": 3
   },
   "file_extension": ".py",
   "mimetype": "text/x-python",
   "name": "python",
   "nbconvert_exporter": "python",
   "pygments_lexer": "ipython3",
   "version": "3.4.1"
  }
 },
 "nbformat": 4,
 "nbformat_minor": 0
}
