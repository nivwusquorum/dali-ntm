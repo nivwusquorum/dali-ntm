{
 "cells": [
  {
   "cell_type": "markdown",
   "metadata": {},
   "source": [
    "# Content Adressing expriment\n",
    "\n",
    "In this simple experiment we ask network to use NTM style adressing to retrieve an element from memory based on content similarity. \n",
    "\n",
    "The experiment goes as follows. We create a random memory matrix and we extract a random row. This row is then fed as input to the Read head. We expect to get the same row back. Since theres no direct way to use input input output other than approprately adressing the memory matrix, upon successful experiment we can conclude that system learnt content adressing"
   ]
  },
  {
   "cell_type": "code",
   "execution_count": 1,
   "metadata": {
    "collapsed": false
   },
   "outputs": [],
   "source": [
    "%load_ext autoreload\n",
    "%autoreload 2\n",
    "import random\n",
    "import unittest\n",
    "import numpy as np\n",
    "\n",
    "from dali.utils import Solver, RunningAverage, Capture\n",
    "import dali.core as D\n",
    "from memory_access import NTMReadHead\n",
    "import matplotlib.pyplot as plt\n",
    "from utils import list_vector_to_mat\n",
    "%matplotlib inline"
   ]
  },
  {
   "cell_type": "code",
   "execution_count": 2,
   "metadata": {
    "collapsed": false
   },
   "outputs": [
    {
     "name": "stdout",
     "output_type": "stream",
     "text": [
      "Epoch  0  error =  0.7703886686735908\n",
      "Epoch  100  error =  0.17403366702185838\n",
      "Epoch  200  error =  0.09053551079981778\n",
      "Epoch  300  error =  0.002879948558072801\n",
      "Epoch  400  error =  0.0038243738202187474\n",
      "Epoch  500  error =  0.0003852937550934231\n",
      "Epoch  600  error =  0.0003950990727282869\n",
      "Epoch  700  error =  0.0004900828405766264\n",
      "Epoch  800  error =  0.0003128382515095237\n",
      "Epoch  900  error =  0.00022343948436882565\n",
      "Epoch  1000  error =  0.0005335378872608545\n",
      "Epoch  1100  error =  0.00010681826413269919\n",
      "Epoch  1200  error =  4.525694441341103e-05\n",
      "Epoch  1300  error =  0.0002472800260322238\n",
      "Epoch  1400  error =  0.005309426964273925\n",
      "Epoch  1500  error =  0.0002884277929396478\n",
      "Epoch  1600  error =  0.0017582554944455874\n",
      "Epoch  1700  error =  7.789122250728414e-05\n",
      "Epoch  1800  error =  0.0005043196040432201\n",
      "Epoch  1900  error =  0.007683161070091039\n"
     ]
    }
   ],
   "source": [
    "memory_size = 20\n",
    "memory_locations = 128\n",
    "model = NTMReadHead(input_sizes=[memory_size,],\n",
    "                    memory_locations=memory_locations,\n",
    "                    memory_size=memory_size)\n",
    "initial_locations = D.Mat.zeros((1, memory_locations), constant=True)\n",
    "solver = Solver(model.parameters(), \"rmsprop\", learning_rate=0.01)\n",
    "\n",
    "def generate_example():\n",
    "    memory = D.random.uniform(-1.0, 1.0,\n",
    "        size=(memory_locations, memory_size))\n",
    "    memory.constant = True\n",
    "\n",
    "    with D.NoBackprop():\n",
    "        rnd_location = random.randint(0, memory_locations - 1)\n",
    "        row = memory[rnd_location]\n",
    "        row.constant = True\n",
    "\n",
    "    return memory, row, rnd_location\n",
    "\n",
    "EPOCHS = 2000\n",
    "MINIBATCH = 10\n",
    "\n",
    "error_estimate = RunningAverage(0.99)\n",
    "lowest_error = float('inf')\n",
    "best_params = None\n",
    "\n",
    "\n",
    "for epoch in range(EPOCHS):\n",
    "    for _ in range(MINIBATCH):\n",
    "        memory, row, row_idx = generate_example()\n",
    "\n",
    "        retrieved, _    = model.read(row, memory, initial_locations)\n",
    "        error = (row - retrieved) ** 2\n",
    "        error.grad()\n",
    "        D.Graph.backward()\n",
    "        error_estimate.update(error.w[0,0])\n",
    "    if lowest_error > float(error_estimate):\n",
    "        lowest_error = float(error_estimate)\n",
    "        best_params = [p.get_value(copy=True) for p in model.parameters()]\n",
    "    if epoch % 100 == 0:\n",
    "        print(\"Epoch \", epoch, \" error = \", float(error_estimate), flush=True)\n",
    "    solver.step()\n",
    "\n",
    "for param, best_param in zip(model.parameters(), best_params):\n",
    "    param.w = best_param"
   ]
  },
  {
   "cell_type": "markdown",
   "metadata": {},
   "source": [
    "## Accuracy"
   ]
  },
  {
   "cell_type": "code",
   "execution_count": 6,
   "metadata": {
    "collapsed": false
   },
   "outputs": [
    {
     "name": "stdout",
     "output_type": "stream",
     "text": [
      "Accuracy on 100 examples is 96 %\n"
     ]
    }
   ],
   "source": [
    "EVAL_EXAMPLES = 100\n",
    "num_correct = 0\n",
    "with D.NoBackprop():\n",
    "    for _ in range(EVAL_EXAMPLES):\n",
    "        memory, row, row_idx = generate_example()\n",
    "\n",
    "        retrieved, _    = model.read(row, memory, initial_locations)\n",
    "        num_correct += sum(abs(row - retrieved).w[0] < 0.01)\n",
    "\n",
    "print(\"Accuracy on %d examples is %.0f %%\" % (EVAL_EXAMPLES, 100.0 * num_correct / (EVAL_EXAMPLES * memory_size)))"
   ]
  },
  {
   "cell_type": "code",
   "execution_count": 14,
   "metadata": {
    "collapsed": false
   },
   "outputs": [
    {
     "name": "stdout",
     "output_type": "stream",
     "text": [
      "input row:      [ 0.61699092  0.0378983  -0.76983124 -0.88780743  0.38928986  0.50725865\n",
      " -0.29977119 -0.8259753   0.95960987  0.32745099 -0.83233213 -0.80361426\n",
      " -0.41905802 -0.59406215 -0.90811384 -0.75839269 -0.37288111 -0.99024206\n",
      " -0.64530694  0.85774696]\n",
      "retrieved row:  [ 0.61151522  0.03259407 -0.76362687 -0.87870085  0.38064474  0.50394899\n",
      " -0.29736051 -0.81753761  0.94945204  0.31709498 -0.82505023 -0.79162246\n",
      " -0.41830152 -0.58712143 -0.9011004  -0.74411815 -0.37376559 -0.9697181\n",
      " -0.64455473  0.85334671]\n",
      "Row idx:    121\n"
     ]
    },
    {
     "data": {
      "text/plain": [
       "<matplotlib.colorbar.Colorbar at 0x7f4df0a61f28>"
      ]
     },
     "execution_count": 14,
     "metadata": {},
     "output_type": "execute_result"
    },
    {
     "data": {
      "image/png": "[encoded data removed]",
      "text/plain": [
       "<matplotlib.figure.Figure at 0x7f4df0a61ba8>"
      ]
     },
     "metadata": {},
     "output_type": "display_data"
    }
   ],
   "source": [
    "c = Capture()\n",
    "with D.NoBackprop():\n",
    "    with c:\n",
    "        memory, row, row_idx = generate_example()\n",
    "        retrieved, _    = model.read(row, memory, initial_locations)\n",
    "        \n",
    "print(\"input row:     \", row.w.ravel())\n",
    "print(\"retrieved row: \", retrieved.w.ravel())\n",
    "\n",
    "print(\"Row idx:   \", row_idx)\n",
    "plt.matshow(list_vector_to_mat(c.state[\"read_head_weights\"]))\n",
    "plt.colorbar()"
   ]
  },
  {
   "cell_type": "markdown",
   "metadata": {},
   "source": [
    "# Content Key\n",
    "\n",
    "Network seems to learn to pass through input as content key"
   ]
  },
  {
   "cell_type": "code",
   "execution_count": 5,
   "metadata": {
    "collapsed": false
   },
   "outputs": [
    {
     "data": {
      "image/png": "[encoded data removed]",
      "text/plain": [
       "<matplotlib.figure.Figure at 0x7f4df2db18d0>"
      ]
     },
     "metadata": {},
     "output_type": "display_data"
    },
    {
     "data": {
      "image/png": "[encoded data removed]",
      "text/plain": [
       "<matplotlib.figure.Figure at 0x7f4df0aeb4e0>"
      ]
     },
     "metadata": {},
     "output_type": "display_data"
    }
   ],
   "source": [
    "def show_module(m):\n",
    "    plt.matshow(m.matrices[0])\n",
    "    plt.colorbar()\n",
    "    plt.matshow(m.b)\n",
    "    plt.colorbar()\n",
    "\n",
    "def print_module(m):\n",
    "    print(m.matrices[0].w)\n",
    "    print(m.b.w)\n",
    "    \n",
    "show_module(model.addressing.content_key)"
   ]
  },
  {
   "cell_type": "code",
   "execution_count": 6,
   "metadata": {
    "collapsed": false,
    "scrolled": true
   },
   "outputs": [
    {
     "name": "stdout",
     "output_type": "stream",
     "text": [
      "[[-0.04908761]\n",
      " [ 0.04967965]\n",
      " [-0.09675545]\n",
      " [ 0.24371789]\n",
      " [ 1.20791388]\n",
      " [ 0.15788864]\n",
      " [-0.4106774 ]\n",
      " [-0.79994833]\n",
      " [ 0.52855647]\n",
      " [-0.6218375 ]\n",
      " [-0.20155028]\n",
      " [ 0.67973191]\n",
      " [ 0.15843973]\n",
      " [ 0.61616689]\n",
      " [ 0.16520797]\n",
      " [ 0.78504503]\n",
      " [-1.18746245]\n",
      " [-1.67397356]\n",
      " [-0.7096439 ]\n",
      " [ 1.63275087]]\n",
      "[[ 9.4568758]]\n"
     ]
    }
   ],
   "source": [
    "print_module(model.addressing.content_key_strength)"
   ]
  },
  {
   "cell_type": "markdown",
   "metadata": {},
   "source": [
    "## Shift\n",
    "\n",
    "Network learns **not** to shift the input"
   ]
  },
  {
   "cell_type": "code",
   "execution_count": 7,
   "metadata": {
    "collapsed": false
   },
   "outputs": [
    {
     "data": {
      "image/png": "[encoded data removed]",
      "text/plain": [
       "<matplotlib.figure.Figure at 0x7f4df0a1fb70>"
      ]
     },
     "metadata": {},
     "output_type": "display_data"
    },
    {
     "data": {
      "image/png": "[encoded data removed]",
      "text/plain": [
       "<matplotlib.figure.Figure at 0x7f4df0a4df60>"
      ]
     },
     "metadata": {},
     "output_type": "display_data"
    }
   ],
   "source": [
    "show_module(model.addressing.shift)"
   ]
  },
  {
   "cell_type": "code",
   "execution_count": 8,
   "metadata": {
    "collapsed": false
   },
   "outputs": [
    {
     "name": "stdout",
     "output_type": "stream",
     "text": [
      "[[-2.41238594]\n",
      " [-2.23660803]\n",
      " [-1.97500622]\n",
      " [ 1.3489933 ]\n",
      " [ 2.02993989]\n",
      " [-0.07465048]\n",
      " [-0.84943843]\n",
      " [-1.44223189]\n",
      " [-0.85852277]\n",
      " [-1.73582745]\n",
      " [-0.65865988]\n",
      " [ 0.26710719]\n",
      " [-0.41750887]\n",
      " [-2.94882274]\n",
      " [ 1.74704027]\n",
      " [-1.13310027]\n",
      " [-2.36792827]\n",
      " [-1.8008914 ]\n",
      " [-0.98661745]\n",
      " [ 0.18022487]]\n",
      "[[ 9.25370121]]\n"
     ]
    }
   ],
   "source": [
    "print_module(model.addressing.interpolation)"
   ]
  },
  {
   "cell_type": "code",
   "execution_count": 9,
   "metadata": {
    "collapsed": false
   },
   "outputs": [
    {
     "name": "stdout",
     "output_type": "stream",
     "text": [
      "[[-0.37626803]\n",
      " [ 0.03584782]\n",
      " [ 0.3949703 ]\n",
      " [ 0.34772545]\n",
      " [-0.94564408]\n",
      " [-0.25469318]\n",
      " [ 0.65711874]\n",
      " [ 0.12619394]\n",
      " [-0.60617715]\n",
      " [-0.09172975]\n",
      " [-0.07544992]\n",
      " [ 0.19526006]\n",
      " [-0.50094563]\n",
      " [-0.71175176]\n",
      " [ 0.37269717]\n",
      " [-0.58599353]\n",
      " [ 1.17458439]\n",
      " [ 1.54676318]\n",
      " [ 0.71668035]\n",
      " [-1.19889033]]\n",
      "[[ 0.98553836]]\n"
     ]
    }
   ],
   "source": [
    "print_module(model.addressing.focus)"
   ]
  },
  {
   "cell_type": "code",
   "execution_count": null,
   "metadata": {
    "collapsed": true
   },
   "outputs": [],
   "source": []
  }
 ],
 "metadata": {
  "kernelspec": {
   "display_name": "Python 3",
   "language": "python",
   "name": "python3"
  },
  "language_info": {
   "codemirror_mode": {
    "name": "ipython",
    "version": 3
   },
   "file_extension": ".py",
   "mimetype": "text/x-python",
   "name": "python",
   "nbconvert_exporter": "python",
   "pygments_lexer": "ipython3",
   "version": "3.4.1"
  }
 },
 "nbformat": 4,
 "nbformat_minor": 0
}
