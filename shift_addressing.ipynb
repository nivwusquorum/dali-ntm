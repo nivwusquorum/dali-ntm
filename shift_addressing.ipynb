{
 "cells": [
  {
   "cell_type": "markdown",
   "metadata": {},
   "source": [
    "# Shift Adressing expriment\n",
    "\n",
    "In this simple experiment we ask network to use NTM style adressing to retrieve a contiguous subsequence of elements from memory.\n",
    "\n",
    "The experiment goes as follows. We create a random memory matrix and we extract a random row. This row is then fed as input to the Read head. We then query the network **shift_per_example** many times and we expect to get out the row that was fed at input, then the next row in memory, then the row two positions away an so on. Since we have no controller to we feed an extra bit of information to the network - the bit is 0 if we are at first timestep T=0 and 1 otherwise. \n",
    "\n",
    "The \"controller bit\" is cruitial and since it tends to be burried in the noise, we multiply it's learnining rate by memory_size."
   ]
  },
  {
   "cell_type": "code",
   "execution_count": 1,
   "metadata": {
    "collapsed": false
   },
   "outputs": [],
   "source": [
    "%load_ext autoreload\n",
    "%autoreload 2\n",
    "%matplotlib inline\n",
    "\n",
    "import random\n",
    "import unittest\n",
    "import numpy as np\n",
    "import dali.core as D\n",
    "import matplotlib.pyplot as plt\n",
    "\n",
    "from dali.utils import Solver, RunningAverage, Capture\n",
    "\n",
    "from memory_access import NTMReadHead\n",
    "from utils import list_vector_to_mat"
   ]
  },
  {
   "cell_type": "code",
   "execution_count": 149,
   "metadata": {
    "collapsed": false
   },
   "outputs": [
    {
     "name": "stdout",
     "output_type": "stream",
     "text": [
      "Learning rate for model_adressing_content_key.matrices[1] multiplied by 20\n",
      "Learning rate for model_adressing_content_key_strength.matrices[1] multiplied by 20\n",
      "Learning rate for model_adressing_interpolation.matrices[1] multiplied by 20\n",
      "Learning rate for model_adressing_shift.matrices[1] multiplied by 20\n",
      "Learning rate for model_adressing_focus.matrices[1] multiplied by 20\n",
      "Epoch  0  error =  44.497150315475466\n",
      "Epoch  100  error =  45.690615659792684\n",
      "Epoch  200  error =  42.81805854159544\n",
      "Epoch  300  error =  36.41513802047649\n",
      "Epoch  400  error =  29.61520411750467\n",
      "Epoch  500  error =  26.336048541032817\n",
      "Epoch  600  error =  25.052394342518205\n",
      "Epoch  700  error =  22.086407495887595\n",
      "Epoch  800  error =  21.021242635341252\n",
      "Epoch  900  error =  19.563115585221645\n",
      "Epoch  1000  error =  18.054774291206556\n",
      "Epoch  1100  error =  11.654980656760719\n",
      "Epoch  1200  error =  9.304408566590325\n",
      "Epoch  1300  error =  4.7911665029536055\n",
      "Epoch  1400  error =  3.3604395397623965\n",
      "Epoch  1500  error =  0.31615542419353215\n",
      "Epoch  1600  error =  0.13382060129516787\n",
      "Warning ignoring grad update due to NaNs (name: model_adressing_content_key.matrices[0]).\n",
      "Warning ignoring grad update due to NaNs (name: model_adressing_content_key.matrices[0]).\n",
      "Epoch  1700  error =  0.2308972534393891\n",
      "Warning ignoring grad update due to NaNs (name: model_adressing_content_key.matrices[0]).\n",
      "Warning ignoring grad update due to NaNs (name: model_adressing_content_key.matrices[0]).\n",
      "Warning ignoring grad update due to NaNs (name: model_adressing_content_key.matrices[0]).\n",
      "Warning ignoring grad update due to NaNs (name: model_adressing_focus.b).\n",
      "Warning ignoring grad update due to NaNs (name: model_adressing_content_key.matrices[0]).\n",
      "Epoch  1800  error =  0.30988024813259357\n",
      "Warning ignoring grad update due to NaNs (name: model_adressing_content_key.matrices[0]).\n",
      "Warning ignoring grad update due to NaNs (name: model_adressing_content_key.matrices[0]).\n",
      "Warning ignoring grad update due to NaNs (name: model_adressing_content_key.matrices[0]).\n",
      "Warning ignoring grad update due to NaNs (name: model_adressing_content_key.matrices[0]).\n",
      "Warning ignoring grad update due to NaNs (name: model_adressing_content_key.matrices[0]).\n",
      "Epoch  1900  error =  0.6683888023223306\n",
      "Warning ignoring grad update due to NaNs (name: model_adressing_content_key.matrices[0]).\n",
      "Warning ignoring grad update due to NaNs (name: model_adressing_content_key.matrices[0]).\n",
      "Warning ignoring grad update due to NaNs (name: model_adressing_content_key.matrices[0]).\n",
      "Warning ignoring grad update due to NaNs (name: model_adressing_content_key.matrices[0]).\n",
      "Warning ignoring grad update due to NaNs (name: model_adressing_content_key.matrices[0]).\n",
      "Epoch  2000  error =  0.18904788856579582\n",
      "Warning ignoring grad update due to NaNs (name: model_adressing_content_key.matrices[0]).\n",
      "Warning ignoring grad update due to NaNs (name: model_adressing_content_key.matrices[0]).\n",
      "Warning ignoring grad update due to NaNs (name: model_adressing_content_key.matrices[0]).\n",
      "Warning ignoring grad update due to NaNs (name: model_adressing_content_key.matrices[0]).\n",
      "Warning ignoring grad update due to NaNs (name: model_adressing_content_key.matrices[0]).\n",
      "Warning ignoring grad update due to NaNs (name: model_adressing_content_key.matrices[0]).\n",
      "Epoch  2100  error =  0.14418437794051614\n",
      "Warning ignoring grad update due to NaNs (name: model_adressing_content_key.matrices[0]).\n",
      "Warning ignoring grad update due to NaNs (name: model_adressing_content_key.matrices[0]).\n",
      "Warning ignoring grad update due to NaNs (name: model_adressing_content_key.matrices[0]).\n",
      "Warning ignoring grad update due to NaNs (name: model_adressing_content_key.matrices[0]).\n",
      "Warning ignoring grad update due to NaNs (name: model_adressing_content_key.matrices[0]).\n",
      "Warning ignoring grad update due to NaNs (name: model_adressing_content_key.matrices[0]).\n",
      "Epoch  2200  error =  0.16799908306667732\n",
      "Warning ignoring grad update due to NaNs (name: model_adressing_content_key.matrices[0]).\n",
      "Warning ignoring grad update due to NaNs (name: model_adressing_content_key.matrices[0]).\n",
      "Warning ignoring grad update due to NaNs (name: model_adressing_content_key.matrices[0]).\n",
      "Warning ignoring grad update due to NaNs (name: model_adressing_content_key.matrices[0]).\n",
      "Warning ignoring grad update due to NaNs (name: model_adressing_content_key.matrices[0]).\n",
      "Warning ignoring grad update due to NaNs (name: model_adressing_content_key.matrices[0]).\n",
      "Warning ignoring grad update due to NaNs (name: model_adressing_content_key.matrices[0]).\n",
      "Epoch  2300  error =  0.4013080487127386\n",
      "Warning ignoring grad update due to NaNs (name: model_adressing_content_key.matrices[0]).\n",
      "Warning ignoring grad update due to NaNs (name: model_adressing_shift.matrices[0]).\n",
      "Warning ignoring grad update due to NaNs (name: model_adressing_content_key.matrices[0]).\n",
      "Warning ignoring grad update due to NaNs (name: model_adressing_content_key.matrices[0]).\n",
      "Warning ignoring grad update due to NaNs (name: model_adressing_content_key.matrices[0]).\n",
      "Epoch  2400  error =  0.30121029071595457\n",
      "Warning ignoring grad update due to NaNs (name: model_adressing_content_key.matrices[0]).\n",
      "Warning ignoring grad update due to NaNs (name: model_adressing_content_key.matrices[0]).\n",
      "Warning ignoring grad update due to NaNs (name: model_adressing_content_key.matrices[0]).\n",
      "Warning ignoring grad update due to NaNs (name: model_adressing_content_key.matrices[0]).\n",
      "Epoch  2500  error =  0.215481397748015\n",
      "Warning ignoring grad update due to NaNs (name: model_adressing_content_key.matrices[0]).\n",
      "Warning ignoring grad update due to NaNs (name: model_adressing_content_key.matrices[0]).\n",
      "Warning ignoring grad update due to NaNs (name: model_adressing_content_key.matrices[0]).\n",
      "Warning ignoring grad update due to NaNs (name: model_adressing_content_key.matrices[0]).\n",
      "Epoch  2600  error =  0.1417426807743792\n",
      "Warning ignoring grad update due to NaNs (name: model_adressing_content_key.matrices[0]).\n",
      "Warning ignoring grad update due to NaNs (name: model_adressing_content_key.matrices[0]).\n",
      "Warning ignoring grad update due to NaNs (name: model_adressing_content_key.matrices[0]).\n",
      "Warning ignoring grad update due to NaNs (name: model_adressing_content_key.matrices[0]).\n",
      "Warning ignoring grad update due to NaNs (name: model_adressing_content_key.matrices[0]).\n",
      "Epoch  2700  error =  0.7980844572527276\n",
      "Warning ignoring grad update due to NaNs (name: model_adressing_content_key.matrices[0]).\n",
      "Warning ignoring grad update due to NaNs (name: model_adressing_content_key.matrices[0]).\n",
      "Warning ignoring grad update due to NaNs (name: model_adressing_content_key.matrices[0]).\n",
      "Warning ignoring grad update due to NaNs (name: model_adressing_content_key.matrices[0]).\n",
      "Epoch  2800  error =  0.6109817276146043\n",
      "Warning ignoring grad update due to NaNs (name: model_adressing_content_key.matrices[0]).\n",
      "Warning ignoring grad update due to NaNs (name: model_adressing_content_key.matrices[0]).\n",
      "Warning ignoring grad update due to NaNs (name: model_adressing_content_key.matrices[0]).\n",
      "Warning ignoring grad update due to NaNs (name: model_adressing_content_key.matrices[0]).\n",
      "Warning ignoring grad update due to NaNs (name: model_adressing_interpolation.b).\n",
      "Epoch  2900  error =  0.2033990237307152\n",
      "Warning ignoring grad update due to NaNs (name: model_adressing_content_key.matrices[0]).\n",
      "Warning ignoring grad update due to NaNs (name: model_adressing_content_key.matrices[0]).\n",
      "Warning ignoring grad update due to NaNs (name: model_adressing_content_key.matrices[0]).\n",
      "Warning ignoring grad update due to NaNs (name: model_adressing_content_key.matrices[0]).\n",
      "Epoch  3000  error =  0.27814212544610306\n",
      "Warning ignoring grad update due to NaNs (name: model_adressing_content_key.matrices[0]).\n",
      "Warning ignoring grad update due to NaNs (name: model_adressing_content_key.matrices[0]).\n",
      "Warning ignoring grad update due to NaNs (name: model_adressing_content_key.matrices[0]).\n",
      "Warning ignoring grad update due to NaNs (name: model_adressing_content_key.matrices[0]).\n",
      "Epoch  3100  error =  0.161160286926691\n",
      "Warning ignoring grad update due to NaNs (name: model_adressing_shift.matrices[1]).\n",
      "Warning ignoring grad update due to NaNs (name: model_adressing_content_key.matrices[0]).\n",
      "Warning ignoring grad update due to NaNs (name: model_adressing_content_key.matrices[0]).\n",
      "Warning ignoring grad update due to NaNs (name: model_adressing_content_key.matrices[0]).\n",
      "Epoch  3200  error =  0.14379151506613086\n",
      "Warning ignoring grad update due to NaNs (name: model_adressing_content_key.matrices[0]).\n",
      "Warning ignoring grad update due to NaNs (name: model_adressing_content_key.matrices[0]).\n",
      "Warning ignoring grad update due to NaNs (name: model_adressing_content_key.matrices[0]).\n",
      "Warning ignoring grad update due to NaNs (name: model_adressing_content_key.matrices[0]).\n",
      "Epoch  3300  error =  0.0632545746398314\n",
      "Warning ignoring grad update due to NaNs (name: model_adressing_content_key.matrices[0]).\n",
      "Warning ignoring grad update due to NaNs (name: model_adressing_content_key.matrices[0]).\n",
      "Warning ignoring grad update due to NaNs (name: model_adressing_content_key.matrices[0]).\n",
      "Warning ignoring grad update due to NaNs (name: model_adressing_content_key.matrices[0]).\n",
      "Warning ignoring grad update due to NaNs (name: model_adressing_content_key.matrices[0]).\n",
      "Epoch  3400  error =  0.3785821904897463\n",
      "Warning ignoring grad update due to NaNs (name: model_adressing_content_key.matrices[0]).\n",
      "Warning ignoring grad update due to NaNs (name: model_adressing_content_key.matrices[0]).\n",
      "Warning ignoring grad update due to NaNs (name: model_adressing_content_key.matrices[0]).\n",
      "Warning ignoring grad update due to NaNs (name: model_adressing_content_key.matrices[0]).\n",
      "Epoch  3500  error =  0.21334305767852377\n",
      "Warning ignoring grad update due to NaNs (name: model_adressing_content_key.matrices[0]).\n",
      "Warning ignoring grad update due to NaNs (name: model_adressing_content_key.matrices[0]).\n",
      "Warning ignoring grad update due to NaNs (name: model_adressing_content_key.matrices[0]).\n",
      "Warning ignoring grad update due to NaNs (name: model_adressing_content_key.matrices[0]).\n",
      "Epoch  3600  error =  0.4472782805801698\n",
      "Warning ignoring grad update due to NaNs (name: model_adressing_content_key.matrices[0]).\n",
      "Warning ignoring grad update due to NaNs (name: model_adressing_content_key.matrices[0]).\n",
      "Warning ignoring grad update due to NaNs (name: model_adressing_content_key.matrices[0]).\n",
      "Warning ignoring grad update due to NaNs (name: model_adressing_content_key.matrices[0]).\n",
      "Warning ignoring grad update due to NaNs (name: model_adressing_content_key.matrices[0]).\n",
      "Epoch  3700  error =  0.18960111633851837\n",
      "Warning ignoring grad update due to NaNs (name: model_adressing_content_key.matrices[0]).\n",
      "Warning ignoring grad update due to NaNs (name: model_adressing_content_key.matrices[0]).\n",
      "Warning ignoring grad update due to NaNs (name: model_adressing_content_key.matrices[0]).\n",
      "Warning ignoring grad update due to NaNs (name: model_adressing_content_key.matrices[0]).\n",
      "Warning ignoring grad update due to NaNs (name: model_adressing_content_key.matrices[0]).\n",
      "Epoch  3800  error =  0.207321317439967\n",
      "Warning ignoring grad update due to NaNs (name: model_adressing_content_key.matrices[0]).\n",
      "Warning ignoring grad update due to NaNs (name: model_adressing_content_key.matrices[0]).\n",
      "Warning ignoring grad update due to NaNs (name: model_adressing_content_key.matrices[0]).\n",
      "Warning ignoring grad update due to NaNs (name: model_adressing_shift.matrices[1]).\n",
      "Epoch  3900  error =  0.05830046177816539\n",
      "Warning ignoring grad update due to NaNs (name: model_adressing_content_key.matrices[0]).\n",
      "Warning ignoring grad update due to NaNs (name: model_adressing_focus.b).\n",
      "Warning ignoring grad update due to NaNs (name: model_adressing_content_key.matrices[0]).\n",
      "Warning ignoring grad update due to NaNs (name: model_adressing_content_key.matrices[0]).\n",
      "Warning ignoring grad update due to NaNs (name: model_adressing_content_key.matrices[0]).\n",
      "Epoch  4000  error =  0.09759888907397508\n",
      "Warning ignoring grad update due to NaNs (name: model_adressing_content_key.matrices[0]).\n",
      "Warning ignoring grad update due to NaNs (name: model_adressing_content_key.matrices[0]).\n",
      "Warning ignoring grad update due to NaNs (name: model_adressing_content_key.matrices[0]).\n",
      "Warning ignoring grad update due to NaNs (name: model_adressing_content_key.matrices[0]).\n",
      "Epoch  4100  error =  0.4430007450505404\n",
      "Warning ignoring grad update due to NaNs (name: model_adressing_content_key.matrices[0]).\n",
      "Warning ignoring grad update due to NaNs (name: model_adressing_content_key.matrices[0]).\n",
      "Warning ignoring grad update due to NaNs (name: model_adressing_focus.b).\n",
      "Warning ignoring grad update due to NaNs (name: model_adressing_content_key.matrices[0]).\n",
      "Epoch  4200  error =  0.11554881267729278\n",
      "Warning ignoring grad update due to NaNs (name: model_adressing_content_key.matrices[0]).\n",
      "Warning ignoring grad update due to NaNs (name: model_adressing_content_key.matrices[0]).\n",
      "Warning ignoring grad update due to NaNs (name: model_adressing_content_key.matrices[0]).\n",
      "Warning ignoring grad update due to NaNs (name: model_adressing_content_key.matrices[0]).\n",
      "Warning ignoring grad update due to NaNs (name: model_adressing_shift.b).\n",
      "Epoch  4300  error =  0.1323359025285547\n",
      "Warning ignoring grad update due to NaNs (name: model_adressing_content_key.matrices[0]).\n",
      "Warning ignoring grad update due to NaNs (name: model_adressing_content_key.matrices[0]).\n",
      "Warning ignoring grad update due to NaNs (name: model_adressing_content_key.matrices[0]).\n",
      "Warning ignoring grad update due to NaNs (name: model_adressing_content_key.matrices[0]).\n",
      "Epoch  4400  error =  0.19378627020043313\n",
      "Warning ignoring grad update due to NaNs (name: model_adressing_content_key.matrices[0]).\n",
      "Warning ignoring grad update due to NaNs (name: model_adressing_shift.matrices[1]).\n",
      "Warning ignoring grad update due to NaNs (name: model_adressing_content_key.matrices[0]).\n",
      "Warning ignoring grad update due to NaNs (name: model_adressing_content_key.matrices[0]).\n",
      "Epoch  4500  error =  0.11925181313933893\n",
      "Warning ignoring grad update due to NaNs (name: model_adressing_content_key.matrices[0]).\n",
      "Warning ignoring grad update due to NaNs (name: model_adressing_content_key.matrices[0]).\n",
      "Warning ignoring grad update due to NaNs (name: model_adressing_content_key.matrices[0]).\n",
      "Warning ignoring grad update due to NaNs (name: model_adressing_content_key.matrices[0]).\n",
      "Epoch  4600  error =  0.14912554658316335\n",
      "Warning ignoring grad update due to NaNs (name: model_adressing_content_key.matrices[0]).\n",
      "Warning ignoring grad update due to NaNs (name: model_adressing_content_key.matrices[0]).\n",
      "Warning ignoring grad update due to NaNs (name: model_adressing_content_key.matrices[0]).\n",
      "Warning ignoring grad update due to NaNs (name: model_adressing_content_key.matrices[0]).\n",
      "Warning ignoring grad update due to NaNs (name: model_adressing_content_key.matrices[0]).\n",
      "Epoch  4700  error =  0.23325720373059425\n",
      "Warning ignoring grad update due to NaNs (name: model_adressing_content_key.matrices[0]).\n",
      "Warning ignoring grad update due to NaNs (name: model_adressing_content_key.matrices[0]).\n",
      "Warning ignoring grad update due to NaNs (name: model_adressing_content_key.matrices[0]).\n",
      "Warning ignoring grad update due to NaNs (name: model_adressing_initial_locations).\n",
      "Warning ignoring grad update due to NaNs (name: model_adressing_content_key.matrices[0]).\n",
      "Epoch  4800  error =  0.2170531845295775\n",
      "Warning ignoring grad update due to NaNs (name: model_adressing_content_key.matrices[0]).\n",
      "Warning ignoring grad update due to NaNs (name: model_adressing_content_key.matrices[0]).\n",
      "Warning ignoring grad update due to NaNs (name: model_adressing_content_key.matrices[0]).\n",
      "Warning ignoring grad update due to NaNs (name: model_adressing_content_key.matrices[0]).\n",
      "Epoch  4900  error =  0.20532038472866562\n",
      "Warning ignoring grad update due to NaNs (name: model_adressing_content_key.matrices[0]).\n",
      "Warning ignoring grad update due to NaNs (name: model_adressing_content_key.matrices[0]).\n",
      "Warning ignoring grad update due to NaNs (name: model_adressing_content_key.matrices[0]).\n",
      "Warning ignoring grad update due to NaNs (name: model_adressing_content_key.matrices[0]).\n",
      "Warning ignoring grad update due to NaNs (name: model_adressing_content_key.matrices[0]).\n",
      "Epoch  5000  error =  0.11781906289596976\n",
      "Warning ignoring grad update due to NaNs (name: model_adressing_content_key.matrices[0]).\n",
      "Warning ignoring grad update due to NaNs (name: model_adressing_content_key.matrices[0]).\n"
     ]
    }
   ],
   "source": [
    "memory_size = 20\n",
    "memory_locations = 128\n",
    "shifts_per_example = 7\n",
    "\n",
    "model = NTMReadHead(input_sizes=[memory_size, 1],\n",
    "                    memory_locations=memory_locations,\n",
    "                    memory_size=memory_size)\n",
    "model.name_parameters(\"model\")\n",
    "initial_locations = D.Mat.zeros((1, memory_locations), constant=True)\n",
    "solver = Solver(model.parameters(), \"rmsprop\", learning_rate=0.003)\n",
    "\n",
    "# oddly this part is crutial\n",
    "for param in model.parameters():\n",
    "    if 'matrices[1]' in param.name:\n",
    "        solver.set_lr_multiplier(param.name, float(memory_size))\n",
    "        print(\"Learning rate for %s multiplied by %d\" % (param.name, memory_size))\n",
    "\n",
    "def generate_example(timesteps):\n",
    "    memory = D.random.uniform(-1.0, 1.0,\n",
    "        size=(memory_locations, memory_size))\n",
    "    memory.constant = True\n",
    "\n",
    "    start_location = random.randint(0, memory_locations - 1)\n",
    "    \n",
    "    rows = []\n",
    "    with D.NoBackprop():\n",
    "        for i in range(start_location, start_location + timesteps):\n",
    "            rows.append(memory[i % memory_locations])\n",
    "            rows[-1].constant = True\n",
    "\n",
    "    inputs = [[rows[0], D.Mat.zeros((1,1), constant=True)]] + \\\n",
    "             [[D.Mat.zeros((1, memory_size)), D.Mat.ones((1,1), constant=True)] for _ in range(len(rows) - 1)]\n",
    "            \n",
    "    return memory, inputs, rows, start_location\n",
    "\n",
    "EPOCHS = 10000\n",
    "MINIBATCH = 3\n",
    "\n",
    "error_estimate = RunningAverage(0.99)\n",
    "lowest_error = float('inf')\n",
    "best_params = None\n",
    "\n",
    "\n",
    "try:\n",
    "    for epoch in range(EPOCHS):\n",
    "        for _ in range(MINIBATCH):\n",
    "            memory, inputs, rows, row_idx = generate_example(shifts_per_example)\n",
    "\n",
    "\n",
    "            head_state = model.initial_states()\n",
    "            error = D.Mat.zeros((1,1), constant=True)\n",
    "            for inpt, target in zip(inputs, rows):\n",
    "                retrieved, head_state    = model.read(inpt, memory, head_state)\n",
    "                error = error +  ((target - retrieved) ** 2).sum()\n",
    "            (error / MINIBATCH).grad()\n",
    "            D.Graph.backward()\n",
    "            error_estimate.update(error.w[0,0])\n",
    "        if lowest_error > float(error_estimate):\n",
    "            lowest_error = float(error_estimate)\n",
    "            best_params = [p.get_value(copy=True) for p in model.parameters()]\n",
    "        if epoch % 100 == 0:\n",
    "            print(\"Epoch \", epoch, \" error = \", float(error_estimate), flush=True)\n",
    "        solver.step()\n",
    "except KeyboardInterrupt:\n",
    "    pass\n",
    "\n",
    "for param, best_param in zip(model.parameters(), best_params):\n",
    "    param.w = best_param"
   ]
  },
  {
   "cell_type": "code",
   "execution_count": 151,
   "metadata": {
    "collapsed": false
   },
   "outputs": [
    {
     "name": "stdout",
     "output_type": "stream",
     "text": [
      "Accuracy for 3 timesteps is 97 %\n",
      "Accuracy for 7 timesteps is 99 %\n",
      "Accuracy for 14 timesteps is 98 %\n"
     ]
    }
   ],
   "source": [
    "def accuracy(timesteps):\n",
    "    EVAL_EXAMPLES = 100\n",
    "    num_correct = 0\n",
    "    num_total   = 0\n",
    "    with D.NoBackprop():\n",
    "        for _ in range(EVAL_EXAMPLES):\n",
    "            memory, inputs, rows, first_row_idx = generate_example(timesteps)\n",
    "\n",
    "            head_state = model.initial_states()\n",
    "            for inpt, target in zip(inputs, rows):\n",
    "                retrieved, head_state    = model.read(inpt, memory, head_state)\n",
    "\n",
    "                num_correct += sum(abs(target - retrieved).w[0] < 0.1)\n",
    "                num_total += retrieved.shape[0] * retrieved.shape[1]\n",
    "    return num_correct / num_total\n",
    "\n",
    "print(\"Accuracy for %d timesteps is %.0f %%\" % (shifts_per_example // 2, 100.0 * accuracy(shifts_per_example // 2)))\n",
    "print(\"Accuracy for %d timesteps is %.0f %%\" % (shifts_per_example, 100.0 * accuracy(shifts_per_example)))\n",
    "print(\"Accuracy for %d timesteps is %.0f %%\" % (shifts_per_example * 2, 100.0 * accuracy(shifts_per_example * 2)))"
   ]
  },
  {
   "cell_type": "code",
   "execution_count": 153,
   "metadata": {
    "collapsed": false
   },
   "outputs": [
    {
     "data": {
      "image/png": "[encoded data removed]",
      "text/plain": [
       "<matplotlib.figure.Figure at 0x7f7f0de3bc88>"
      ]
     },
     "metadata": {},
     "output_type": "display_data"
    },
    {
     "data": {
      "image/png": "[encoded data removed]",
      "text/plain": [
       "<matplotlib.figure.Figure at 0x7f7f0de3be80>"
      ]
     },
     "metadata": {},
     "output_type": "display_data"
    },
    {
     "data": {
      "image/png": "[encoded data removed]",
      "text/plain": [
       "<matplotlib.figure.Figure at 0x7f7f0df0ceb8>"
      ]
     },
     "metadata": {},
     "output_type": "display_data"
    }
   ],
   "source": [
    "def visualize_memory(timesteps):\n",
    "    c = Capture()\n",
    "    with D.NoBackprop():\n",
    "        with c:\n",
    "            memory, inputs, rows, first_row_idx = generate_example(timesteps)\n",
    "\n",
    "            head_state = model.initial_states()\n",
    "            for inpt, target in zip(inputs, rows):\n",
    "                retrieved, head_state    = model.read(inpt, memory, head_state)\n",
    "    ax = plt.matshow(list_vector_to_mat(c.state[\"read_head_weights\"]))\n",
    "    plt.title(\"Memory access for %d timesteps (first should be %d)\" % (timesteps, first_row_idx) )\n",
    "    plt.colorbar()\n",
    "    ax.axes.xaxis.set_ticks_position('bottom')\n",
    "visualize_memory(shifts_per_example // 2)\n",
    "visualize_memory(shifts_per_example)\n",
    "visualize_memory(shifts_per_example * 10)"
   ]
  },
  {
   "cell_type": "code",
   "execution_count": 154,
   "metadata": {
    "collapsed": false
   },
   "outputs": [
    {
     "data": {
      "image/png": "[encoded data removed]",
      "text/plain": [
       "<matplotlib.figure.Figure at 0x7f7f0e00c2b0>"
      ]
     },
     "metadata": {},
     "output_type": "display_data"
    },
    {
     "data": {
      "image/png": "[encoded data removed]",
      "text/plain": [
       "<matplotlib.figure.Figure at 0x7f7f0e1d90f0>"
      ]
     },
     "metadata": {},
     "output_type": "display_data"
    },
    {
     "data": {
      "image/png": "[encoded data removed]",
      "text/plain": [
       "<matplotlib.figure.Figure at 0x7f7f0e06fc88>"
      ]
     },
     "metadata": {},
     "output_type": "display_data"
    }
   ],
   "source": [
    "def show_module(m):\n",
    "    plt.matshow(m.matrices[0])\n",
    "    plt.colorbar()\n",
    "    plt.matshow(m.matrices[1])\n",
    "    plt.colorbar()\n",
    "    plt.matshow(m.b)\n",
    "    plt.colorbar()\n",
    "\n",
    "def print_module(m):\n",
    "    print(m.matrices[0].w)\n",
    "    print(m.b.w)\n",
    "    \n",
    "show_module(model.addressing.content_key)"
   ]
  },
  {
   "cell_type": "code",
   "execution_count": null,
   "metadata": {
    "collapsed": false
   },
   "outputs": [
    {
     "data": {
      "image/png": "[encoded data removed]",
      "text/plain": [
       "<matplotlib.figure.Figure at 0x7f7f0dd03780>"
      ]
     },
     "metadata": {},
     "output_type": "display_data"
    },
    {
     "data": {
      "image/png": "[encoded data removed]",
      "text/plain": [
       "<matplotlib.figure.Figure at 0x7f7f0de807f0>"
      ]
     },
     "metadata": {},
     "output_type": "display_data"
    }
   ],
   "source": [
    "show_module(model.addressing.shift)"
   ]
  },
  {
   "cell_type": "code",
   "execution_count": 117,
   "metadata": {
    "collapsed": false
   },
   "outputs": [
    {
     "name": "stdout",
     "output_type": "stream",
     "text": [
      "[[ 4.7683177 ]\n",
      " [ 1.5772413 ]\n",
      " [ 6.19783115]\n",
      " [-0.93345594]\n",
      " [ 1.32073438]]\n",
      "[[ 16.26532936]]\n"
     ]
    }
   ],
   "source": [
    "print_module(model.addressing.interpolation)"
   ]
  },
  {
   "cell_type": "code",
   "execution_count": 118,
   "metadata": {
    "collapsed": false
   },
   "outputs": [
    {
     "name": "stdout",
     "output_type": "stream",
     "text": [
      "[[-4.34807014]\n",
      " [-2.79266238]\n",
      " [ 0.53355837]\n",
      " [ 0.25169346]\n",
      " [ 6.61313248]]\n",
      "[[ 7.10945797]]\n"
     ]
    }
   ],
   "source": [
    "print_module(model.addressing.focus)"
   ]
  }
 ],
 "metadata": {
  "kernelspec": {
   "display_name": "Python 3",
   "language": "python",
   "name": "python3"
  },
  "language_info": {
   "codemirror_mode": {
    "name": "ipython",
    "version": 3
   },
   "file_extension": ".py",
   "mimetype": "text/x-python",
   "name": "python",
   "nbconvert_exporter": "python",
   "pygments_lexer": "ipython3",
   "version": "3.4.1"
  }
 },
 "nbformat": 4,
 "nbformat_minor": 0
}
